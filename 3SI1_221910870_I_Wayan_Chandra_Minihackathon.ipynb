{
  "nbformat": 4,
  "nbformat_minor": 0,
  "metadata": {
    "colab": {
      "name": "3SI1_221910870_I Wayan Chandra_Minihackathon.ipynb",
      "provenance": [],
      "collapsed_sections": []
    },
    "kernelspec": {
      "name": "python3",
      "display_name": "Python 3"
    },
    "language_info": {
      "name": "python"
    }
  },
  "cells": [
    {
      "cell_type": "markdown",
      "metadata": {
        "id": "7r64ZIouBZ_b"
      },
      "source": [
        "# **MINI HACKATHON**"
      ]
    },
    {
      "cell_type": "markdown",
      "metadata": {
        "id": "63vfX9mS53TO"
      },
      "source": [
        "# **PREPROCESSING**"
      ]
    },
    {
      "cell_type": "markdown",
      "metadata": {
        "id": "Ibe2ONtnQ_dB"
      },
      "source": [
        "**Import**"
      ]
    },
    {
      "cell_type": "code",
      "metadata": {
        "id": "f5Fla_tePuvu"
      },
      "source": [
        "import pandas as pd\n",
        "import numpy as np"
      ],
      "execution_count": 2,
      "outputs": []
    },
    {
      "cell_type": "markdown",
      "metadata": {
        "id": "Vllpr8I9RSvX"
      },
      "source": [
        "**Masukkan data**"
      ]
    },
    {
      "cell_type": "markdown",
      "metadata": {
        "id": "YPp2moV3Re_p"
      },
      "source": [
        "**Data Train**"
      ]
    },
    {
      "cell_type": "code",
      "metadata": {
        "colab": {
          "base_uri": "https://localhost:8080/",
          "height": 417
        },
        "id": "2gxFkhBoRW39",
        "outputId": "1f5e006b-88a9-4c3d-d17e-4f774b96f1ba"
      },
      "source": [
        "train = pd.read_csv(\"Train.csv\")\n",
        "train"
      ],
      "execution_count": 3,
      "outputs": [
        {
          "output_type": "execute_result",
          "data": {
            "text/html": [
              "<div>\n",
              "<style scoped>\n",
              "    .dataframe tbody tr th:only-of-type {\n",
              "        vertical-align: middle;\n",
              "    }\n",
              "\n",
              "    .dataframe tbody tr th {\n",
              "        vertical-align: top;\n",
              "    }\n",
              "\n",
              "    .dataframe thead th {\n",
              "        text-align: right;\n",
              "    }\n",
              "</style>\n",
              "<table border=\"1\" class=\"dataframe\">\n",
              "  <thead>\n",
              "    <tr style=\"text-align: right;\">\n",
              "      <th></th>\n",
              "      <th>ID</th>\n",
              "      <th>Provinsi</th>\n",
              "      <th>KodeKabKot</th>\n",
              "      <th>Y</th>\n",
              "      <th>X1</th>\n",
              "      <th>X2</th>\n",
              "      <th>X3</th>\n",
              "      <th>X4</th>\n",
              "      <th>X5</th>\n",
              "      <th>X6</th>\n",
              "      <th>Z1</th>\n",
              "      <th>Z2</th>\n",
              "      <th>Z3</th>\n",
              "      <th>Z4</th>\n",
              "    </tr>\n",
              "  </thead>\n",
              "  <tbody>\n",
              "    <tr>\n",
              "      <th>0</th>\n",
              "      <td>1</td>\n",
              "      <td>11</td>\n",
              "      <td>1101</td>\n",
              "      <td>0</td>\n",
              "      <td>1</td>\n",
              "      <td>27</td>\n",
              "      <td>0</td>\n",
              "      <td>0</td>\n",
              "      <td>1</td>\n",
              "      <td>1</td>\n",
              "      <td>1.077</td>\n",
              "      <td>15.075</td>\n",
              "      <td>26.919</td>\n",
              "      <td>390.869</td>\n",
              "    </tr>\n",
              "    <tr>\n",
              "      <th>1</th>\n",
              "      <td>2</td>\n",
              "      <td>11</td>\n",
              "      <td>1101</td>\n",
              "      <td>0</td>\n",
              "      <td>1</td>\n",
              "      <td>38</td>\n",
              "      <td>0</td>\n",
              "      <td>0</td>\n",
              "      <td>1</td>\n",
              "      <td>0</td>\n",
              "      <td>1.077</td>\n",
              "      <td>15.075</td>\n",
              "      <td>26.919</td>\n",
              "      <td>390.869</td>\n",
              "    </tr>\n",
              "    <tr>\n",
              "      <th>2</th>\n",
              "      <td>4</td>\n",
              "      <td>11</td>\n",
              "      <td>1101</td>\n",
              "      <td>0</td>\n",
              "      <td>0</td>\n",
              "      <td>36</td>\n",
              "      <td>0</td>\n",
              "      <td>0</td>\n",
              "      <td>0</td>\n",
              "      <td>1</td>\n",
              "      <td>1.077</td>\n",
              "      <td>15.075</td>\n",
              "      <td>26.919</td>\n",
              "      <td>390.869</td>\n",
              "    </tr>\n",
              "    <tr>\n",
              "      <th>3</th>\n",
              "      <td>7</td>\n",
              "      <td>11</td>\n",
              "      <td>1101</td>\n",
              "      <td>0</td>\n",
              "      <td>0</td>\n",
              "      <td>27</td>\n",
              "      <td>0</td>\n",
              "      <td>0</td>\n",
              "      <td>1</td>\n",
              "      <td>1</td>\n",
              "      <td>1.077</td>\n",
              "      <td>15.075</td>\n",
              "      <td>26.919</td>\n",
              "      <td>390.869</td>\n",
              "    </tr>\n",
              "    <tr>\n",
              "      <th>4</th>\n",
              "      <td>8</td>\n",
              "      <td>11</td>\n",
              "      <td>1101</td>\n",
              "      <td>0</td>\n",
              "      <td>1</td>\n",
              "      <td>36</td>\n",
              "      <td>1</td>\n",
              "      <td>0</td>\n",
              "      <td>0</td>\n",
              "      <td>0</td>\n",
              "      <td>1.077</td>\n",
              "      <td>15.075</td>\n",
              "      <td>26.919</td>\n",
              "      <td>390.869</td>\n",
              "    </tr>\n",
              "    <tr>\n",
              "      <th>...</th>\n",
              "      <td>...</td>\n",
              "      <td>...</td>\n",
              "      <td>...</td>\n",
              "      <td>...</td>\n",
              "      <td>...</td>\n",
              "      <td>...</td>\n",
              "      <td>...</td>\n",
              "      <td>...</td>\n",
              "      <td>...</td>\n",
              "      <td>...</td>\n",
              "      <td>...</td>\n",
              "      <td>...</td>\n",
              "      <td>...</td>\n",
              "      <td>...</td>\n",
              "    </tr>\n",
              "    <tr>\n",
              "      <th>13621</th>\n",
              "      <td>19524</td>\n",
              "      <td>94</td>\n",
              "      <td>9471</td>\n",
              "      <td>1</td>\n",
              "      <td>0</td>\n",
              "      <td>28</td>\n",
              "      <td>1</td>\n",
              "      <td>0</td>\n",
              "      <td>1</td>\n",
              "      <td>1</td>\n",
              "      <td>1.757</td>\n",
              "      <td>3.262</td>\n",
              "      <td>48.936</td>\n",
              "      <td>209.045</td>\n",
              "    </tr>\n",
              "    <tr>\n",
              "      <th>13622</th>\n",
              "      <td>19526</td>\n",
              "      <td>94</td>\n",
              "      <td>9471</td>\n",
              "      <td>0</td>\n",
              "      <td>1</td>\n",
              "      <td>22</td>\n",
              "      <td>1</td>\n",
              "      <td>1</td>\n",
              "      <td>1</td>\n",
              "      <td>1</td>\n",
              "      <td>1.757</td>\n",
              "      <td>3.262</td>\n",
              "      <td>48.936</td>\n",
              "      <td>209.045</td>\n",
              "    </tr>\n",
              "    <tr>\n",
              "      <th>13623</th>\n",
              "      <td>19527</td>\n",
              "      <td>94</td>\n",
              "      <td>9471</td>\n",
              "      <td>0</td>\n",
              "      <td>0</td>\n",
              "      <td>35</td>\n",
              "      <td>1</td>\n",
              "      <td>0</td>\n",
              "      <td>1</td>\n",
              "      <td>1</td>\n",
              "      <td>1.757</td>\n",
              "      <td>3.262</td>\n",
              "      <td>48.936</td>\n",
              "      <td>209.045</td>\n",
              "    </tr>\n",
              "    <tr>\n",
              "      <th>13624</th>\n",
              "      <td>19529</td>\n",
              "      <td>94</td>\n",
              "      <td>9471</td>\n",
              "      <td>0</td>\n",
              "      <td>0</td>\n",
              "      <td>27</td>\n",
              "      <td>1</td>\n",
              "      <td>0</td>\n",
              "      <td>1</td>\n",
              "      <td>1</td>\n",
              "      <td>1.757</td>\n",
              "      <td>3.262</td>\n",
              "      <td>48.936</td>\n",
              "      <td>209.045</td>\n",
              "    </tr>\n",
              "    <tr>\n",
              "      <th>13625</th>\n",
              "      <td>19530</td>\n",
              "      <td>94</td>\n",
              "      <td>9471</td>\n",
              "      <td>1</td>\n",
              "      <td>0</td>\n",
              "      <td>39</td>\n",
              "      <td>1</td>\n",
              "      <td>1</td>\n",
              "      <td>1</td>\n",
              "      <td>1</td>\n",
              "      <td>1.757</td>\n",
              "      <td>3.262</td>\n",
              "      <td>48.936</td>\n",
              "      <td>209.045</td>\n",
              "    </tr>\n",
              "  </tbody>\n",
              "</table>\n",
              "<p>13626 rows × 14 columns</p>\n",
              "</div>"
            ],
            "text/plain": [
              "          ID  Provinsi  KodeKabKot  Y  X1  ...  X6     Z1      Z2      Z3       Z4\n",
              "0          1        11        1101  0   1  ...   1  1.077  15.075  26.919  390.869\n",
              "1          2        11        1101  0   1  ...   0  1.077  15.075  26.919  390.869\n",
              "2          4        11        1101  0   0  ...   1  1.077  15.075  26.919  390.869\n",
              "3          7        11        1101  0   0  ...   1  1.077  15.075  26.919  390.869\n",
              "4          8        11        1101  0   1  ...   0  1.077  15.075  26.919  390.869\n",
              "...      ...       ...         ... ..  ..  ...  ..    ...     ...     ...      ...\n",
              "13621  19524        94        9471  1   0  ...   1  1.757   3.262  48.936  209.045\n",
              "13622  19526        94        9471  0   1  ...   1  1.757   3.262  48.936  209.045\n",
              "13623  19527        94        9471  0   0  ...   1  1.757   3.262  48.936  209.045\n",
              "13624  19529        94        9471  0   0  ...   1  1.757   3.262  48.936  209.045\n",
              "13625  19530        94        9471  1   0  ...   1  1.757   3.262  48.936  209.045\n",
              "\n",
              "[13626 rows x 14 columns]"
            ]
          },
          "metadata": {},
          "execution_count": 3
        }
      ]
    },
    {
      "cell_type": "markdown",
      "metadata": {
        "id": "acnJGfoRRghk"
      },
      "source": [
        "**Data Test**"
      ]
    },
    {
      "cell_type": "code",
      "metadata": {
        "colab": {
          "base_uri": "https://localhost:8080/",
          "height": 417
        },
        "id": "WzcX6PXvRZgV",
        "outputId": "449bd889-32d9-44a8-891d-7624eb187210"
      },
      "source": [
        "test = pd.read_csv(\"Test.csv\")\n",
        "test"
      ],
      "execution_count": 4,
      "outputs": [
        {
          "output_type": "execute_result",
          "data": {
            "text/html": [
              "<div>\n",
              "<style scoped>\n",
              "    .dataframe tbody tr th:only-of-type {\n",
              "        vertical-align: middle;\n",
              "    }\n",
              "\n",
              "    .dataframe tbody tr th {\n",
              "        vertical-align: top;\n",
              "    }\n",
              "\n",
              "    .dataframe thead th {\n",
              "        text-align: right;\n",
              "    }\n",
              "</style>\n",
              "<table border=\"1\" class=\"dataframe\">\n",
              "  <thead>\n",
              "    <tr style=\"text-align: right;\">\n",
              "      <th></th>\n",
              "      <th>ID</th>\n",
              "      <th>Provinsi</th>\n",
              "      <th>KodeKabKot</th>\n",
              "      <th>X1</th>\n",
              "      <th>X2</th>\n",
              "      <th>X3</th>\n",
              "      <th>X4</th>\n",
              "      <th>X5</th>\n",
              "      <th>X6</th>\n",
              "      <th>Z1</th>\n",
              "      <th>Z2</th>\n",
              "      <th>Z3</th>\n",
              "      <th>Z4</th>\n",
              "    </tr>\n",
              "  </thead>\n",
              "  <tbody>\n",
              "    <tr>\n",
              "      <th>0</th>\n",
              "      <td>3</td>\n",
              "      <td>11</td>\n",
              "      <td>1101</td>\n",
              "      <td>1</td>\n",
              "      <td>39</td>\n",
              "      <td>0</td>\n",
              "      <td>0</td>\n",
              "      <td>1</td>\n",
              "      <td>1</td>\n",
              "      <td>1.077</td>\n",
              "      <td>15.075</td>\n",
              "      <td>26.919</td>\n",
              "      <td>390.869</td>\n",
              "    </tr>\n",
              "    <tr>\n",
              "      <th>1</th>\n",
              "      <td>5</td>\n",
              "      <td>11</td>\n",
              "      <td>1101</td>\n",
              "      <td>0</td>\n",
              "      <td>32</td>\n",
              "      <td>1</td>\n",
              "      <td>0</td>\n",
              "      <td>1</td>\n",
              "      <td>1</td>\n",
              "      <td>1.077</td>\n",
              "      <td>15.075</td>\n",
              "      <td>26.919</td>\n",
              "      <td>390.869</td>\n",
              "    </tr>\n",
              "    <tr>\n",
              "      <th>2</th>\n",
              "      <td>6</td>\n",
              "      <td>11</td>\n",
              "      <td>1101</td>\n",
              "      <td>1</td>\n",
              "      <td>32</td>\n",
              "      <td>1</td>\n",
              "      <td>0</td>\n",
              "      <td>1</td>\n",
              "      <td>1</td>\n",
              "      <td>1.077</td>\n",
              "      <td>15.075</td>\n",
              "      <td>26.919</td>\n",
              "      <td>390.869</td>\n",
              "    </tr>\n",
              "    <tr>\n",
              "      <th>3</th>\n",
              "      <td>10</td>\n",
              "      <td>11</td>\n",
              "      <td>1101</td>\n",
              "      <td>1</td>\n",
              "      <td>28</td>\n",
              "      <td>1</td>\n",
              "      <td>0</td>\n",
              "      <td>1</td>\n",
              "      <td>0</td>\n",
              "      <td>1.077</td>\n",
              "      <td>15.075</td>\n",
              "      <td>26.919</td>\n",
              "      <td>390.869</td>\n",
              "    </tr>\n",
              "    <tr>\n",
              "      <th>4</th>\n",
              "      <td>17</td>\n",
              "      <td>11</td>\n",
              "      <td>1101</td>\n",
              "      <td>0</td>\n",
              "      <td>31</td>\n",
              "      <td>1</td>\n",
              "      <td>0</td>\n",
              "      <td>1</td>\n",
              "      <td>1</td>\n",
              "      <td>1.077</td>\n",
              "      <td>15.075</td>\n",
              "      <td>26.919</td>\n",
              "      <td>390.869</td>\n",
              "    </tr>\n",
              "    <tr>\n",
              "      <th>...</th>\n",
              "      <td>...</td>\n",
              "      <td>...</td>\n",
              "      <td>...</td>\n",
              "      <td>...</td>\n",
              "      <td>...</td>\n",
              "      <td>...</td>\n",
              "      <td>...</td>\n",
              "      <td>...</td>\n",
              "      <td>...</td>\n",
              "      <td>...</td>\n",
              "      <td>...</td>\n",
              "      <td>...</td>\n",
              "      <td>...</td>\n",
              "    </tr>\n",
              "    <tr>\n",
              "      <th>5901</th>\n",
              "      <td>19515</td>\n",
              "      <td>94</td>\n",
              "      <td>9471</td>\n",
              "      <td>1</td>\n",
              "      <td>39</td>\n",
              "      <td>0</td>\n",
              "      <td>1</td>\n",
              "      <td>1</td>\n",
              "      <td>1</td>\n",
              "      <td>1.757</td>\n",
              "      <td>3.262</td>\n",
              "      <td>48.936</td>\n",
              "      <td>209.045</td>\n",
              "    </tr>\n",
              "    <tr>\n",
              "      <th>5902</th>\n",
              "      <td>19525</td>\n",
              "      <td>94</td>\n",
              "      <td>9471</td>\n",
              "      <td>0</td>\n",
              "      <td>30</td>\n",
              "      <td>1</td>\n",
              "      <td>1</td>\n",
              "      <td>1</td>\n",
              "      <td>1</td>\n",
              "      <td>1.757</td>\n",
              "      <td>3.262</td>\n",
              "      <td>48.936</td>\n",
              "      <td>209.045</td>\n",
              "    </tr>\n",
              "    <tr>\n",
              "      <th>5903</th>\n",
              "      <td>19528</td>\n",
              "      <td>94</td>\n",
              "      <td>9471</td>\n",
              "      <td>0</td>\n",
              "      <td>22</td>\n",
              "      <td>1</td>\n",
              "      <td>1</td>\n",
              "      <td>1</td>\n",
              "      <td>1</td>\n",
              "      <td>1.757</td>\n",
              "      <td>3.262</td>\n",
              "      <td>48.936</td>\n",
              "      <td>209.045</td>\n",
              "    </tr>\n",
              "    <tr>\n",
              "      <th>5904</th>\n",
              "      <td>19531</td>\n",
              "      <td>94</td>\n",
              "      <td>9471</td>\n",
              "      <td>0</td>\n",
              "      <td>40</td>\n",
              "      <td>1</td>\n",
              "      <td>1</td>\n",
              "      <td>1</td>\n",
              "      <td>1</td>\n",
              "      <td>1.757</td>\n",
              "      <td>3.262</td>\n",
              "      <td>48.936</td>\n",
              "      <td>209.045</td>\n",
              "    </tr>\n",
              "    <tr>\n",
              "      <th>5905</th>\n",
              "      <td>19532</td>\n",
              "      <td>94</td>\n",
              "      <td>9471</td>\n",
              "      <td>0</td>\n",
              "      <td>38</td>\n",
              "      <td>1</td>\n",
              "      <td>0</td>\n",
              "      <td>1</td>\n",
              "      <td>1</td>\n",
              "      <td>1.757</td>\n",
              "      <td>3.262</td>\n",
              "      <td>48.936</td>\n",
              "      <td>209.045</td>\n",
              "    </tr>\n",
              "  </tbody>\n",
              "</table>\n",
              "<p>5906 rows × 13 columns</p>\n",
              "</div>"
            ],
            "text/plain": [
              "         ID  Provinsi  KodeKabKot  X1  X2  ...  X6     Z1      Z2      Z3       Z4\n",
              "0         3        11        1101   1  39  ...   1  1.077  15.075  26.919  390.869\n",
              "1         5        11        1101   0  32  ...   1  1.077  15.075  26.919  390.869\n",
              "2         6        11        1101   1  32  ...   1  1.077  15.075  26.919  390.869\n",
              "3        10        11        1101   1  28  ...   0  1.077  15.075  26.919  390.869\n",
              "4        17        11        1101   0  31  ...   1  1.077  15.075  26.919  390.869\n",
              "...     ...       ...         ...  ..  ..  ...  ..    ...     ...     ...      ...\n",
              "5901  19515        94        9471   1  39  ...   1  1.757   3.262  48.936  209.045\n",
              "5902  19525        94        9471   0  30  ...   1  1.757   3.262  48.936  209.045\n",
              "5903  19528        94        9471   0  22  ...   1  1.757   3.262  48.936  209.045\n",
              "5904  19531        94        9471   0  40  ...   1  1.757   3.262  48.936  209.045\n",
              "5905  19532        94        9471   0  38  ...   1  1.757   3.262  48.936  209.045\n",
              "\n",
              "[5906 rows x 13 columns]"
            ]
          },
          "metadata": {},
          "execution_count": 4
        }
      ]
    },
    {
      "cell_type": "markdown",
      "metadata": {
        "id": "9PZEEAoKRpWr"
      },
      "source": [
        "**Menggunakan Data Train**"
      ]
    },
    {
      "cell_type": "code",
      "metadata": {
        "colab": {
          "base_uri": "https://localhost:8080/"
        },
        "id": "uGUPH7EdRtWf",
        "outputId": "8ea8ba0f-dbba-41ec-e02c-189d86296d4d"
      },
      "source": [
        "train.info()"
      ],
      "execution_count": 5,
      "outputs": [
        {
          "output_type": "stream",
          "name": "stdout",
          "text": [
            "<class 'pandas.core.frame.DataFrame'>\n",
            "RangeIndex: 13626 entries, 0 to 13625\n",
            "Data columns (total 14 columns):\n",
            " #   Column      Non-Null Count  Dtype  \n",
            "---  ------      --------------  -----  \n",
            " 0   ID          13626 non-null  int64  \n",
            " 1   Provinsi    13626 non-null  int64  \n",
            " 2   KodeKabKot  13626 non-null  int64  \n",
            " 3   Y           13626 non-null  int64  \n",
            " 4   X1          13626 non-null  int64  \n",
            " 5   X2          13626 non-null  int64  \n",
            " 6   X3          13626 non-null  int64  \n",
            " 7   X4          13626 non-null  int64  \n",
            " 8   X5          13626 non-null  int64  \n",
            " 9   X6          13626 non-null  int64  \n",
            " 10  Z1          13626 non-null  float64\n",
            " 11  Z2          13626 non-null  float64\n",
            " 12  Z3          13626 non-null  float64\n",
            " 13  Z4          13621 non-null  float64\n",
            "dtypes: float64(4), int64(10)\n",
            "memory usage: 1.5 MB\n"
          ]
        }
      ]
    },
    {
      "cell_type": "code",
      "metadata": {
        "colab": {
          "base_uri": "https://localhost:8080/"
        },
        "id": "SS_5KJ0eSBSK",
        "outputId": "f6de9fc7-a588-490d-b471-33d77947b107"
      },
      "source": [
        "train.isnull().sum()"
      ],
      "execution_count": 6,
      "outputs": [
        {
          "output_type": "execute_result",
          "data": {
            "text/plain": [
              "ID            0\n",
              "Provinsi      0\n",
              "KodeKabKot    0\n",
              "Y             0\n",
              "X1            0\n",
              "X2            0\n",
              "X3            0\n",
              "X4            0\n",
              "X5            0\n",
              "X6            0\n",
              "Z1            0\n",
              "Z2            0\n",
              "Z3            0\n",
              "Z4            5\n",
              "dtype: int64"
            ]
          },
          "metadata": {},
          "execution_count": 6
        }
      ]
    },
    {
      "cell_type": "code",
      "metadata": {
        "colab": {
          "base_uri": "https://localhost:8080/"
        },
        "id": "NnFZTURvSGpT",
        "outputId": "d2f2f31c-6f37-4c45-8e30-b6531fda42a9"
      },
      "source": [
        "trainDrop = train.dropna(axis=0)\n",
        "trainDrop.info()"
      ],
      "execution_count": 7,
      "outputs": [
        {
          "output_type": "stream",
          "name": "stdout",
          "text": [
            "<class 'pandas.core.frame.DataFrame'>\n",
            "Int64Index: 13621 entries, 0 to 13625\n",
            "Data columns (total 14 columns):\n",
            " #   Column      Non-Null Count  Dtype  \n",
            "---  ------      --------------  -----  \n",
            " 0   ID          13621 non-null  int64  \n",
            " 1   Provinsi    13621 non-null  int64  \n",
            " 2   KodeKabKot  13621 non-null  int64  \n",
            " 3   Y           13621 non-null  int64  \n",
            " 4   X1          13621 non-null  int64  \n",
            " 5   X2          13621 non-null  int64  \n",
            " 6   X3          13621 non-null  int64  \n",
            " 7   X4          13621 non-null  int64  \n",
            " 8   X5          13621 non-null  int64  \n",
            " 9   X6          13621 non-null  int64  \n",
            " 10  Z1          13621 non-null  float64\n",
            " 11  Z2          13621 non-null  float64\n",
            " 12  Z3          13621 non-null  float64\n",
            " 13  Z4          13621 non-null  float64\n",
            "dtypes: float64(4), int64(10)\n",
            "memory usage: 1.6 MB\n"
          ]
        }
      ]
    },
    {
      "cell_type": "code",
      "metadata": {
        "colab": {
          "base_uri": "https://localhost:8080/"
        },
        "id": "zqVrLViISNUI",
        "outputId": "87350a9a-6852-4ce8-85bf-76de14f6bd32"
      },
      "source": [
        "trainDrop.isnull().sum()\n"
      ],
      "execution_count": 8,
      "outputs": [
        {
          "output_type": "execute_result",
          "data": {
            "text/plain": [
              "ID            0\n",
              "Provinsi      0\n",
              "KodeKabKot    0\n",
              "Y             0\n",
              "X1            0\n",
              "X2            0\n",
              "X3            0\n",
              "X4            0\n",
              "X5            0\n",
              "X6            0\n",
              "Z1            0\n",
              "Z2            0\n",
              "Z3            0\n",
              "Z4            0\n",
              "dtype: int64"
            ]
          },
          "metadata": {},
          "execution_count": 8
        }
      ]
    },
    {
      "cell_type": "markdown",
      "metadata": {
        "id": "vmh8AJEqTgBp"
      },
      "source": [
        "**Masukkan Data Test**"
      ]
    },
    {
      "cell_type": "code",
      "metadata": {
        "colab": {
          "base_uri": "https://localhost:8080/"
        },
        "id": "8TJy-wM6TovK",
        "outputId": "d79ae527-42eb-456d-b323-ae99f582568f"
      },
      "source": [
        "test.info()"
      ],
      "execution_count": 9,
      "outputs": [
        {
          "output_type": "stream",
          "name": "stdout",
          "text": [
            "<class 'pandas.core.frame.DataFrame'>\n",
            "RangeIndex: 5906 entries, 0 to 5905\n",
            "Data columns (total 13 columns):\n",
            " #   Column      Non-Null Count  Dtype  \n",
            "---  ------      --------------  -----  \n",
            " 0   ID          5906 non-null   int64  \n",
            " 1   Provinsi    5906 non-null   int64  \n",
            " 2   KodeKabKot  5906 non-null   int64  \n",
            " 3   X1          5906 non-null   int64  \n",
            " 4   X2          5906 non-null   int64  \n",
            " 5   X3          5906 non-null   int64  \n",
            " 6   X4          5906 non-null   int64  \n",
            " 7   X5          5906 non-null   int64  \n",
            " 8   X6          5906 non-null   int64  \n",
            " 9   Z1          5906 non-null   float64\n",
            " 10  Z2          5906 non-null   float64\n",
            " 11  Z3          5906 non-null   float64\n",
            " 12  Z4          5901 non-null   float64\n",
            "dtypes: float64(4), int64(9)\n",
            "memory usage: 600.0 KB\n"
          ]
        }
      ]
    },
    {
      "cell_type": "code",
      "metadata": {
        "colab": {
          "base_uri": "https://localhost:8080/"
        },
        "id": "C2GtVMRST8H2",
        "outputId": "9747018d-be5a-41dd-8203-589c754c9223"
      },
      "source": [
        "test.isnull().sum()"
      ],
      "execution_count": 10,
      "outputs": [
        {
          "output_type": "execute_result",
          "data": {
            "text/plain": [
              "ID            0\n",
              "Provinsi      0\n",
              "KodeKabKot    0\n",
              "X1            0\n",
              "X2            0\n",
              "X3            0\n",
              "X4            0\n",
              "X5            0\n",
              "X6            0\n",
              "Z1            0\n",
              "Z2            0\n",
              "Z3            0\n",
              "Z4            5\n",
              "dtype: int64"
            ]
          },
          "metadata": {},
          "execution_count": 10
        }
      ]
    },
    {
      "cell_type": "code",
      "metadata": {
        "colab": {
          "base_uri": "https://localhost:8080/"
        },
        "id": "5zCjHEY6UFAv",
        "outputId": "00f44747-780b-432d-f0d9-b11f6fc5558c"
      },
      "source": [
        "# Langkah 1\n",
        "rataan = test['Z4'].median()\n",
        "# Langkah 2\n",
        "test['Z4'] = test['Z4'].fillna(rataan)\n",
        "# Langkah 3\n",
        "test['Z4'].isna().sum()"
      ],
      "execution_count": 11,
      "outputs": [
        {
          "output_type": "execute_result",
          "data": {
            "text/plain": [
              "0"
            ]
          },
          "metadata": {},
          "execution_count": 11
        }
      ]
    },
    {
      "cell_type": "code",
      "metadata": {
        "colab": {
          "base_uri": "https://localhost:8080/"
        },
        "id": "YbzZeqbf02pi",
        "outputId": "d50a5623-6e1f-4d07-d979-3b44bb3346cf"
      },
      "source": [
        "rataan = test['Z4'].median()\n",
        "rataan"
      ],
      "execution_count": 12,
      "outputs": [
        {
          "output_type": "execute_result",
          "data": {
            "text/plain": [
              "159.925"
            ]
          },
          "metadata": {},
          "execution_count": 12
        }
      ]
    },
    {
      "cell_type": "code",
      "metadata": {
        "colab": {
          "base_uri": "https://localhost:8080/"
        },
        "id": "P8zkFjpIUKb7",
        "outputId": "d3b67f14-8723-49ef-d2a7-84a407bd4d5d"
      },
      "source": [
        "tes = test.drop( ['ID','Provinsi'],axis=1) \n",
        "tes.info()"
      ],
      "execution_count": 13,
      "outputs": [
        {
          "output_type": "stream",
          "name": "stdout",
          "text": [
            "<class 'pandas.core.frame.DataFrame'>\n",
            "RangeIndex: 5906 entries, 0 to 5905\n",
            "Data columns (total 11 columns):\n",
            " #   Column      Non-Null Count  Dtype  \n",
            "---  ------      --------------  -----  \n",
            " 0   KodeKabKot  5906 non-null   int64  \n",
            " 1   X1          5906 non-null   int64  \n",
            " 2   X2          5906 non-null   int64  \n",
            " 3   X3          5906 non-null   int64  \n",
            " 4   X4          5906 non-null   int64  \n",
            " 5   X5          5906 non-null   int64  \n",
            " 6   X6          5906 non-null   int64  \n",
            " 7   Z1          5906 non-null   float64\n",
            " 8   Z2          5906 non-null   float64\n",
            " 9   Z3          5906 non-null   float64\n",
            " 10  Z4          5906 non-null   float64\n",
            "dtypes: float64(4), int64(7)\n",
            "memory usage: 507.7 KB\n"
          ]
        }
      ]
    },
    {
      "cell_type": "markdown",
      "metadata": {
        "id": "1kGU1_ddSSQh"
      },
      "source": [
        "**Membuat Model**"
      ]
    },
    {
      "cell_type": "markdown",
      "metadata": {
        "id": "VwwRCN5ISViR"
      },
      "source": [
        "**membagi data train menjadi hitung (X) dan target (Y)**"
      ]
    },
    {
      "cell_type": "code",
      "metadata": {
        "colab": {
          "base_uri": "https://localhost:8080/"
        },
        "id": "llHLD35PSUrP",
        "outputId": "2cfa23a8-bccd-4dbf-8ad1-87372c412ff6"
      },
      "source": [
        "varX = trainDrop.drop(['Y', 'ID', 'Provinsi'],axis=1) \n",
        "varX.info()"
      ],
      "execution_count": 14,
      "outputs": [
        {
          "output_type": "stream",
          "name": "stdout",
          "text": [
            "<class 'pandas.core.frame.DataFrame'>\n",
            "Int64Index: 13621 entries, 0 to 13625\n",
            "Data columns (total 11 columns):\n",
            " #   Column      Non-Null Count  Dtype  \n",
            "---  ------      --------------  -----  \n",
            " 0   KodeKabKot  13621 non-null  int64  \n",
            " 1   X1          13621 non-null  int64  \n",
            " 2   X2          13621 non-null  int64  \n",
            " 3   X3          13621 non-null  int64  \n",
            " 4   X4          13621 non-null  int64  \n",
            " 5   X5          13621 non-null  int64  \n",
            " 6   X6          13621 non-null  int64  \n",
            " 7   Z1          13621 non-null  float64\n",
            " 8   Z2          13621 non-null  float64\n",
            " 9   Z3          13621 non-null  float64\n",
            " 10  Z4          13621 non-null  float64\n",
            "dtypes: float64(4), int64(7)\n",
            "memory usage: 1.2 MB\n"
          ]
        }
      ]
    },
    {
      "cell_type": "code",
      "metadata": {
        "colab": {
          "base_uri": "https://localhost:8080/"
        },
        "id": "Mo0TykOdS9aL",
        "outputId": "bf80c5cd-77dd-4834-98ef-6dae3fe0ed7e"
      },
      "source": [
        "varY = trainDrop['Y']\n",
        "varY.head()"
      ],
      "execution_count": 15,
      "outputs": [
        {
          "output_type": "execute_result",
          "data": {
            "text/plain": [
              "0    0\n",
              "1    0\n",
              "2    0\n",
              "3    0\n",
              "4    0\n",
              "Name: Y, dtype: int64"
            ]
          },
          "metadata": {},
          "execution_count": 15
        }
      ]
    },
    {
      "cell_type": "markdown",
      "metadata": {
        "id": "YdsElhLGTKLP"
      },
      "source": [
        "**Split data**"
      ]
    },
    {
      "cell_type": "code",
      "metadata": {
        "id": "5wAmmC5uTDdo"
      },
      "source": [
        "from sklearn.model_selection import train_test_split\n",
        "X_train, X_test, y_train, y_test = train_test_split(varX, varY, test_size=0.01, random_state=0)"
      ],
      "execution_count": 16,
      "outputs": []
    },
    {
      "cell_type": "markdown",
      "metadata": {
        "id": "9cV8O-rWTS5M"
      },
      "source": [
        "**Featured Scalling**"
      ]
    },
    {
      "cell_type": "code",
      "metadata": {
        "id": "ozxrbvzdTZpV"
      },
      "source": [
        "from sklearn.preprocessing import StandardScaler\n",
        "sc = StandardScaler()\n",
        "X_train = sc.fit_transform(X_train)\n",
        "X_test = sc.transform(X_test)\n",
        "tes = sc.transform(tes)"
      ],
      "execution_count": 17,
      "outputs": []
    },
    {
      "cell_type": "markdown",
      "metadata": {
        "id": "0-q73W5wTOOG"
      },
      "source": [
        "**Import Library Analisis**"
      ]
    },
    {
      "cell_type": "code",
      "metadata": {
        "id": "lUmpE3ULXeis"
      },
      "source": [
        "from sklearn.metrics import classification_report,accuracy_score\n",
        "from sklearn.metrics import confusion_matrix,ConfusionMatrixDisplay\n",
        "# Import untuk Grid\n",
        "from sklearn.model_selection import GridSearchCV\n",
        "from sklearn.model_selection import RandomizedSearchCV"
      ],
      "execution_count": 18,
      "outputs": []
    },
    {
      "cell_type": "markdown",
      "metadata": {
        "id": "J-nghvM8bvj9"
      },
      "source": [
        "# **XGBOOST**\n"
      ]
    },
    {
      "cell_type": "code",
      "metadata": {
        "colab": {
          "base_uri": "https://localhost:8080/"
        },
        "id": "YYi4LV5LXt6K",
        "outputId": "8e8cba82-3654-4891-c850-2ab3b59a4905"
      },
      "source": [
        "from xgboost import XGBClassifier\n",
        "xgboost = XGBClassifier(random_state = 0)\n",
        "xgboost.fit(X_train, y_train)"
      ],
      "execution_count": 19,
      "outputs": [
        {
          "output_type": "execute_result",
          "data": {
            "text/plain": [
              "XGBClassifier()"
            ]
          },
          "metadata": {},
          "execution_count": 19
        }
      ]
    },
    {
      "cell_type": "code",
      "metadata": {
        "colab": {
          "base_uri": "https://localhost:8080/"
        },
        "id": "V5FNfUtzXyeB",
        "outputId": "384e8a18-c3d0-4086-9a08-fa9cb47e1c93"
      },
      "source": [
        "y_predXGB = xgboost.predict(X_test)\n",
        "y_predXGB"
      ],
      "execution_count": 20,
      "outputs": [
        {
          "output_type": "execute_result",
          "data": {
            "text/plain": [
              "array([1, 0, 0, 1, 0, 1, 0, 0, 0, 1, 0, 1, 1, 0, 0, 0, 0, 0, 0, 1, 0, 0,\n",
              "       0, 0, 1, 0, 1, 1, 1, 0, 0, 0, 0, 0, 0, 0, 0, 0, 1, 0, 0, 1, 0, 0,\n",
              "       1, 0, 0, 1, 1, 1, 0, 1, 0, 0, 0, 1, 1, 1, 0, 0, 1, 0, 1, 0, 0, 0,\n",
              "       0, 1, 0, 0, 0, 0, 1, 0, 0, 1, 1, 0, 1, 0, 0, 1, 1, 1, 0, 0, 0, 1,\n",
              "       0, 0, 0, 0, 0, 1, 0, 1, 1, 1, 1, 1, 0, 0, 0, 0, 0, 1, 0, 0, 0, 0,\n",
              "       0, 0, 0, 1, 0, 0, 0, 0, 1, 1, 1, 0, 1, 1, 0, 0, 0, 0, 0, 1, 0, 0,\n",
              "       0, 0, 0, 1, 0])"
            ]
          },
          "metadata": {},
          "execution_count": 20
        }
      ]
    },
    {
      "cell_type": "code",
      "metadata": {
        "colab": {
          "base_uri": "https://localhost:8080/"
        },
        "id": "wbKVKFAbYN-m",
        "outputId": "d74587eb-db9d-4ea0-bd6b-7e6cda653be8"
      },
      "source": [
        "print(classification_report(y_test, y_predXGB))\n"
      ],
      "execution_count": 21,
      "outputs": [
        {
          "output_type": "stream",
          "name": "stdout",
          "text": [
            "              precision    recall  f1-score   support\n",
            "\n",
            "           0       0.76      0.74      0.75        92\n",
            "           1       0.49      0.51      0.50        45\n",
            "\n",
            "    accuracy                           0.66       137\n",
            "   macro avg       0.62      0.63      0.62       137\n",
            "weighted avg       0.67      0.66      0.67       137\n",
            "\n"
          ]
        }
      ]
    },
    {
      "cell_type": "code",
      "metadata": {
        "colab": {
          "base_uri": "https://localhost:8080/"
        },
        "id": "bwfOYzpQY6Y4",
        "outputId": "6ec15156-a837-44c1-ac14-ce4bea268953"
      },
      "source": [
        "from sklearn.metrics import confusion_matrix\n",
        "print(confusion_matrix(y_test, y_predXGB), \": is the confusion matrix\")\n",
        "\n",
        "from sklearn.metrics import accuracy_score\n",
        "print(accuracy_score(y_test, y_predXGB), \": is the accuracy score\")\n",
        "\n",
        "from sklearn.metrics import precision_score\n",
        "print(precision_score(y_test, y_predXGB, average='weighted'), \": is the precision score\")\n",
        "\n",
        "from sklearn.metrics import recall_score\n",
        "print(recall_score(y_test, y_predXGB, average='weighted'), \": is the recall score\")\n",
        "\n",
        "from sklearn.metrics import f1_score\n",
        "print(f1_score(y_test, y_predXGB, average='weighted'), \": is the f1 score\")"
      ],
      "execution_count": 22,
      "outputs": [
        {
          "output_type": "stream",
          "name": "stdout",
          "text": [
            "[[68 24]\n",
            " [22 23]] : is the confusion matrix\n",
            "0.6642335766423357 : is the accuracy score\n",
            "0.6681196182982174 : is the precision score\n",
            "0.6642335766423357 : is the recall score\n",
            "0.666038341220823 : is the f1 score\n"
          ]
        }
      ]
    },
    {
      "cell_type": "markdown",
      "metadata": {
        "id": "-e9I3ZiaZLvH"
      },
      "source": [
        "**Buat Submission XGBOOST**\n"
      ]
    },
    {
      "cell_type": "code",
      "metadata": {
        "colab": {
          "base_uri": "https://localhost:8080/"
        },
        "id": "9cGFiap_ZfIQ",
        "outputId": "3aacb7b9-f14f-4b87-e30f-bb238e06a430"
      },
      "source": [
        "Y = xgboost.predict(tes)\n",
        "print(Y)"
      ],
      "execution_count": 23,
      "outputs": [
        {
          "output_type": "stream",
          "name": "stdout",
          "text": [
            "[0 0 0 ... 0 0 0]\n"
          ]
        }
      ]
    },
    {
      "cell_type": "code",
      "metadata": {
        "colab": {
          "base_uri": "https://localhost:8080/"
        },
        "id": "vfQXNmHSaFnn",
        "outputId": "b507b44e-4f22-4c81-92b8-ed660c090481"
      },
      "source": [
        "ID = test['ID']\n",
        "ID.head()"
      ],
      "execution_count": 24,
      "outputs": [
        {
          "output_type": "execute_result",
          "data": {
            "text/plain": [
              "0     3\n",
              "1     5\n",
              "2     6\n",
              "3    10\n",
              "4    17\n",
              "Name: ID, dtype: int64"
            ]
          },
          "metadata": {},
          "execution_count": 24
        }
      ]
    },
    {
      "cell_type": "code",
      "metadata": {
        "colab": {
          "base_uri": "https://localhost:8080/"
        },
        "id": "dgxFIOrnaQtq",
        "outputId": "b683c03c-55f1-4282-f2c0-1d7adf8f15c8"
      },
      "source": [
        "Sub = {'ID': ID,\n",
        "        'Y': Y\n",
        "        }\n",
        "\n",
        "df = pd.DataFrame(Sub, columns= ['ID', 'Y'])\n",
        "\n",
        "df.to_csv ('XGBoost.csv', index = False, header=True)\n",
        "\n",
        "print (df)"
      ],
      "execution_count": 25,
      "outputs": [
        {
          "output_type": "stream",
          "name": "stdout",
          "text": [
            "         ID  Y\n",
            "0         3  0\n",
            "1         5  0\n",
            "2         6  0\n",
            "3        10  0\n",
            "4        17  0\n",
            "...     ... ..\n",
            "5901  19515  0\n",
            "5902  19525  0\n",
            "5903  19528  0\n",
            "5904  19531  0\n",
            "5905  19532  0\n",
            "\n",
            "[5906 rows x 2 columns]\n"
          ]
        }
      ]
    },
    {
      "cell_type": "markdown",
      "metadata": {
        "id": "9K9UWcE1b2ph"
      },
      "source": [
        "# **ADABOOST**"
      ]
    },
    {
      "cell_type": "code",
      "metadata": {
        "colab": {
          "base_uri": "https://localhost:8080/"
        },
        "id": "QcuXW_z6cEaT",
        "outputId": "57ddb339-4adf-489d-ea1d-e839d2181f7f"
      },
      "source": [
        "from sklearn.ensemble import AdaBoostClassifier\n",
        "adaB = AdaBoostClassifier(random_state=0)\n",
        "adaB.fit(X_train, y_train)"
      ],
      "execution_count": 26,
      "outputs": [
        {
          "output_type": "execute_result",
          "data": {
            "text/plain": [
              "AdaBoostClassifier(random_state=0)"
            ]
          },
          "metadata": {},
          "execution_count": 26
        }
      ]
    },
    {
      "cell_type": "code",
      "metadata": {
        "colab": {
          "base_uri": "https://localhost:8080/"
        },
        "id": "ikbWLAVBcGWZ",
        "outputId": "7b8be53d-9aa1-49e9-c55f-43a2cc150658"
      },
      "source": [
        "y_predABC = adaB.predict(X_test)\n",
        "y_predABC"
      ],
      "execution_count": 27,
      "outputs": [
        {
          "output_type": "execute_result",
          "data": {
            "text/plain": [
              "array([1, 0, 0, 0, 0, 1, 0, 1, 0, 1, 0, 1, 0, 0, 0, 0, 0, 0, 0, 1, 0, 0,\n",
              "       0, 0, 0, 0, 1, 1, 1, 0, 0, 0, 0, 0, 0, 0, 0, 1, 1, 0, 0, 1, 0, 0,\n",
              "       1, 0, 0, 1, 0, 1, 0, 1, 0, 1, 0, 1, 1, 1, 0, 0, 1, 0, 1, 0, 0, 0,\n",
              "       0, 1, 0, 0, 0, 0, 1, 0, 0, 1, 1, 0, 1, 0, 0, 1, 1, 1, 0, 0, 0, 1,\n",
              "       1, 0, 0, 0, 0, 1, 0, 1, 1, 1, 1, 1, 0, 0, 0, 0, 0, 0, 0, 0, 1, 0,\n",
              "       0, 0, 0, 1, 0, 0, 0, 0, 1, 1, 1, 0, 1, 1, 0, 0, 0, 0, 0, 1, 0, 0,\n",
              "       0, 0, 1, 1, 0])"
            ]
          },
          "metadata": {},
          "execution_count": 27
        }
      ]
    },
    {
      "cell_type": "code",
      "metadata": {
        "colab": {
          "base_uri": "https://localhost:8080/"
        },
        "id": "Amh114mwcNKz",
        "outputId": "dce96d5e-e028-4582-efa1-cef71c634766"
      },
      "source": [
        "print(classification_report(y_test, y_predABC))"
      ],
      "execution_count": 28,
      "outputs": [
        {
          "output_type": "stream",
          "name": "stdout",
          "text": [
            "              precision    recall  f1-score   support\n",
            "\n",
            "           0       0.78      0.75      0.76        92\n",
            "           1       0.52      0.56      0.54        45\n",
            "\n",
            "    accuracy                           0.69       137\n",
            "   macro avg       0.65      0.65      0.65       137\n",
            "weighted avg       0.69      0.69      0.69       137\n",
            "\n"
          ]
        }
      ]
    },
    {
      "cell_type": "code",
      "metadata": {
        "colab": {
          "base_uri": "https://localhost:8080/"
        },
        "id": "7Dhnez5_cYyD",
        "outputId": "9d0bc50c-22e0-402e-c51e-b235a22c50e5"
      },
      "source": [
        "from sklearn.metrics import confusion_matrix\n",
        "print(confusion_matrix(y_test, y_predABC), \": is the confusion matrix\")\n",
        "\n",
        "from sklearn.metrics import accuracy_score\n",
        "print(accuracy_score(y_test, y_predABC), \": is the accuracy score\")\n",
        "\n",
        "from sklearn.metrics import precision_score\n",
        "print(precision_score(y_test, y_predABC, average='weighted'), \": is the precision score\")\n",
        "\n",
        "from sklearn.metrics import recall_score\n",
        "print(recall_score(y_test, y_predABC, average='weighted'), \": is the recall score\")\n",
        "\n",
        "from sklearn.metrics import f1_score\n",
        "print(f1_score(y_test, y_predABC, average='weighted'), \": is the f1 score\")"
      ],
      "execution_count": 29,
      "outputs": [
        {
          "output_type": "stream",
          "name": "stdout",
          "text": [
            "[[69 23]\n",
            " [20 25]] : is the confusion matrix\n",
            "0.6861313868613139 : is the accuracy score\n",
            "0.691703231362257 : is the precision score\n",
            "0.6861313868613139 : is the recall score\n",
            "0.6885926627440625 : is the f1 score\n"
          ]
        }
      ]
    },
    {
      "cell_type": "markdown",
      "metadata": {
        "id": "CL6n8WENdFVY"
      },
      "source": [
        "**Buat Submission ADABOOST**"
      ]
    },
    {
      "cell_type": "code",
      "metadata": {
        "id": "1Sva2_y-dEZI",
        "colab": {
          "base_uri": "https://localhost:8080/"
        },
        "outputId": "5d343999-9382-420e-f30c-9fc8eb840d84"
      },
      "source": [
        "YY = adaB.predict(tes)\n",
        "print(YY)"
      ],
      "execution_count": 30,
      "outputs": [
        {
          "output_type": "stream",
          "name": "stdout",
          "text": [
            "[0 0 0 ... 0 0 0]\n"
          ]
        }
      ]
    },
    {
      "cell_type": "code",
      "metadata": {
        "colab": {
          "base_uri": "https://localhost:8080/"
        },
        "id": "C2H1id-XdY8s",
        "outputId": "d4e4aff4-b283-42fb-b846-4db0ad8d4349"
      },
      "source": [
        "ID = test['ID']\n",
        "ID.head()"
      ],
      "execution_count": 31,
      "outputs": [
        {
          "output_type": "execute_result",
          "data": {
            "text/plain": [
              "0     3\n",
              "1     5\n",
              "2     6\n",
              "3    10\n",
              "4    17\n",
              "Name: ID, dtype: int64"
            ]
          },
          "metadata": {},
          "execution_count": 31
        }
      ]
    },
    {
      "cell_type": "code",
      "metadata": {
        "colab": {
          "base_uri": "https://localhost:8080/"
        },
        "id": "Pa4ufKC5dpIB",
        "outputId": "b3c15887-2598-4db7-d536-68e473e7ce68"
      },
      "source": [
        "Sub = {'ID': ID,\n",
        "        'Y': YY\n",
        "        }\n",
        "\n",
        "df = pd.DataFrame(Sub, columns= ['ID', 'Y'])\n",
        "\n",
        "df.to_csv ('Adaboost.csv', index = False, header=True)\n",
        "\n",
        "print (df)"
      ],
      "execution_count": 32,
      "outputs": [
        {
          "output_type": "stream",
          "name": "stdout",
          "text": [
            "         ID  Y\n",
            "0         3  0\n",
            "1         5  0\n",
            "2         6  0\n",
            "3        10  0\n",
            "4        17  0\n",
            "...     ... ..\n",
            "5901  19515  0\n",
            "5902  19525  0\n",
            "5903  19528  0\n",
            "5904  19531  0\n",
            "5905  19532  0\n",
            "\n",
            "[5906 rows x 2 columns]\n"
          ]
        }
      ]
    },
    {
      "cell_type": "markdown",
      "metadata": {
        "id": "t7XUZf5O3Uaw"
      },
      "source": [
        "# **RANDOM FOREST**"
      ]
    },
    {
      "cell_type": "code",
      "metadata": {
        "colab": {
          "base_uri": "https://localhost:8080/"
        },
        "id": "IoFj1Nxv3dLZ",
        "outputId": "2ae38ba7-dd2f-4d2c-bae8-40f2bee83140"
      },
      "source": [
        "from sklearn.ensemble import RandomForestClassifier\n",
        "rf = RandomForestClassifier()\n",
        "rf.fit(X_train, y_train)"
      ],
      "execution_count": 33,
      "outputs": [
        {
          "output_type": "execute_result",
          "data": {
            "text/plain": [
              "RandomForestClassifier()"
            ]
          },
          "metadata": {},
          "execution_count": 33
        }
      ]
    },
    {
      "cell_type": "code",
      "metadata": {
        "colab": {
          "base_uri": "https://localhost:8080/"
        },
        "id": "QAb9C9Jy3mR_",
        "outputId": "029f4e52-7cde-4509-e3a0-ab5981926117"
      },
      "source": [
        "y_predrf = rf.predict(X_test)\n",
        "y_predrf"
      ],
      "execution_count": 34,
      "outputs": [
        {
          "output_type": "execute_result",
          "data": {
            "text/plain": [
              "array([1, 0, 1, 0, 0, 1, 1, 0, 0, 1, 0, 1, 0, 0, 1, 0, 0, 0, 0, 0, 0, 1,\n",
              "       1, 0, 1, 0, 0, 0, 0, 0, 0, 0, 0, 0, 0, 1, 0, 0, 1, 0, 0, 1, 0, 1,\n",
              "       1, 0, 0, 1, 0, 1, 1, 1, 0, 0, 0, 1, 1, 0, 1, 0, 1, 1, 0, 0, 0, 0,\n",
              "       0, 1, 0, 0, 0, 0, 0, 0, 0, 0, 0, 1, 1, 0, 0, 1, 1, 1, 0, 0, 0, 0,\n",
              "       1, 0, 0, 0, 0, 1, 0, 1, 0, 1, 0, 1, 0, 1, 0, 0, 1, 0, 0, 0, 1, 0,\n",
              "       0, 1, 0, 0, 0, 0, 0, 0, 1, 1, 1, 0, 1, 1, 0, 0, 0, 0, 1, 1, 0, 0,\n",
              "       0, 1, 1, 1, 0])"
            ]
          },
          "metadata": {},
          "execution_count": 34
        }
      ]
    },
    {
      "cell_type": "code",
      "metadata": {
        "colab": {
          "base_uri": "https://localhost:8080/"
        },
        "id": "Yst22LUb3rTf",
        "outputId": "3b9cae3d-86c3-423d-e2a5-e772d4b4ef10"
      },
      "source": [
        "print(classification_report(y_test, y_predrf))"
      ],
      "execution_count": 35,
      "outputs": [
        {
          "output_type": "stream",
          "name": "stdout",
          "text": [
            "              precision    recall  f1-score   support\n",
            "\n",
            "           0       0.75      0.72      0.73        92\n",
            "           1       0.47      0.51      0.49        45\n",
            "\n",
            "    accuracy                           0.65       137\n",
            "   macro avg       0.61      0.61      0.61       137\n",
            "weighted avg       0.66      0.65      0.65       137\n",
            "\n"
          ]
        }
      ]
    },
    {
      "cell_type": "code",
      "metadata": {
        "colab": {
          "base_uri": "https://localhost:8080/"
        },
        "id": "cryzyoyZ3r6P",
        "outputId": "8c3274b4-ca03-4986-862c-116797ae8e17"
      },
      "source": [
        "print(confusion_matrix(y_test, y_predrf), \": is the confusion matrix\")\n",
        "\n",
        "from sklearn.metrics import accuracy_score\n",
        "print(accuracy_score(y_test, y_predrf), \": is the accuracy score\")\n",
        "\n",
        "from sklearn.metrics import precision_score\n",
        "print(precision_score(y_test, y_predrf, average='weighted'), \": is the precision score\")\n",
        "\n",
        "from sklearn.metrics import recall_score\n",
        "print(recall_score(y_test, y_predrf, average='weighted'), \": is the recall score\")\n",
        "\n",
        "from sklearn.metrics import f1_score\n",
        "print(f1_score(y_test, y_predrf, average='weighted'), \": is the f1 score\")"
      ],
      "execution_count": 36,
      "outputs": [
        {
          "output_type": "stream",
          "name": "stdout",
          "text": [
            "[[66 26]\n",
            " [22 23]] : is the confusion matrix\n",
            "0.6496350364963503 : is the accuracy score\n",
            "0.6578280947415462 : is the precision score\n",
            "0.6496350364963503 : is the recall score\n",
            "0.6531966661489879 : is the f1 score\n"
          ]
        }
      ]
    },
    {
      "cell_type": "markdown",
      "metadata": {
        "id": "Le45BecI3-ce"
      },
      "source": [
        "**Buat submission RANDOM FOREST**"
      ]
    },
    {
      "cell_type": "code",
      "metadata": {
        "colab": {
          "base_uri": "https://localhost:8080/"
        },
        "id": "olk-JVtA7GD6",
        "outputId": "63ae682c-c792-4500-eca7-d1e52c7ea633"
      },
      "source": [
        "YRF = rf.predict(tes)\n",
        "print(YRF)"
      ],
      "execution_count": 37,
      "outputs": [
        {
          "output_type": "stream",
          "name": "stdout",
          "text": [
            "[0 0 0 ... 0 1 0]\n"
          ]
        }
      ]
    },
    {
      "cell_type": "code",
      "metadata": {
        "colab": {
          "base_uri": "https://localhost:8080/"
        },
        "id": "z2SjMPXn7Gqi",
        "outputId": "715f6af1-ab21-42c1-88e9-2bcaa7cdb813"
      },
      "source": [
        "ID = test['ID']\n",
        "ID.head()"
      ],
      "execution_count": 38,
      "outputs": [
        {
          "output_type": "execute_result",
          "data": {
            "text/plain": [
              "0     3\n",
              "1     5\n",
              "2     6\n",
              "3    10\n",
              "4    17\n",
              "Name: ID, dtype: int64"
            ]
          },
          "metadata": {},
          "execution_count": 38
        }
      ]
    },
    {
      "cell_type": "code",
      "metadata": {
        "colab": {
          "base_uri": "https://localhost:8080/"
        },
        "id": "unojHhNs7JsD",
        "outputId": "b0b365e2-a078-44f8-bf6a-2f28156b0c1e"
      },
      "source": [
        "Sub = {'ID': ID,\n",
        "        'Y': YRF\n",
        "        }\n",
        "\n",
        "df = pd.DataFrame(Sub, columns= ['ID', 'Y'])\n",
        "\n",
        "df.to_csv ('RandomF.csv', index = False, header=True)\n",
        "\n",
        "print (df)"
      ],
      "execution_count": 39,
      "outputs": [
        {
          "output_type": "stream",
          "name": "stdout",
          "text": [
            "         ID  Y\n",
            "0         3  0\n",
            "1         5  0\n",
            "2         6  0\n",
            "3        10  1\n",
            "4        17  0\n",
            "...     ... ..\n",
            "5901  19515  0\n",
            "5902  19525  1\n",
            "5903  19528  0\n",
            "5904  19531  1\n",
            "5905  19532  0\n",
            "\n",
            "[5906 rows x 2 columns]\n"
          ]
        }
      ]
    },
    {
      "cell_type": "markdown",
      "metadata": {
        "id": "Ceei-vdu574T"
      },
      "source": [
        "# **DECISION TREE**"
      ]
    },
    {
      "cell_type": "code",
      "metadata": {
        "colab": {
          "base_uri": "https://localhost:8080/"
        },
        "id": "hJpee0oU59vm",
        "outputId": "40de9757-362a-4afd-ed30-b26723e3e109"
      },
      "source": [
        "from sklearn.tree import DecisionTreeClassifier\n",
        "clf_entropy = DecisionTreeClassifier()\n",
        "clf_entropy.fit(X_train, y_train)\n",
        "clf_entropy.get_params()"
      ],
      "execution_count": 40,
      "outputs": [
        {
          "output_type": "execute_result",
          "data": {
            "text/plain": [
              "{'ccp_alpha': 0.0,\n",
              " 'class_weight': None,\n",
              " 'criterion': 'gini',\n",
              " 'max_depth': None,\n",
              " 'max_features': None,\n",
              " 'max_leaf_nodes': None,\n",
              " 'min_impurity_decrease': 0.0,\n",
              " 'min_samples_leaf': 1,\n",
              " 'min_samples_split': 2,\n",
              " 'min_weight_fraction_leaf': 0.0,\n",
              " 'random_state': None,\n",
              " 'splitter': 'best'}"
            ]
          },
          "metadata": {},
          "execution_count": 40
        }
      ]
    },
    {
      "cell_type": "code",
      "metadata": {
        "colab": {
          "base_uri": "https://localhost:8080/"
        },
        "id": "VDtF2Kbf5_GZ",
        "outputId": "42b1d169-45d0-4c21-f3a5-d4a149235cd1"
      },
      "source": [
        "y_predDT = clf_entropy.predict(X_test)\n",
        "accuracy = accuracy_score(y_test, y_predDT)\n",
        "print(\"Accuracy :\",accuracy)"
      ],
      "execution_count": 41,
      "outputs": [
        {
          "output_type": "stream",
          "name": "stdout",
          "text": [
            "Accuracy : 0.6204379562043796\n"
          ]
        }
      ]
    },
    {
      "cell_type": "markdown",
      "metadata": {
        "id": "GmATR6aR3QWa"
      },
      "source": [
        "# **NAIVE BAYES**"
      ]
    },
    {
      "cell_type": "code",
      "metadata": {
        "colab": {
          "base_uri": "https://localhost:8080/"
        },
        "id": "kAMpgWXC9xFh",
        "outputId": "884b452e-09dd-4012-f90b-d63b5557c128"
      },
      "source": [
        "from sklearn.naive_bayes import GaussianNB\n",
        "modelnb = GaussianNB()\n",
        "modelnb.fit(X_train, y_train)"
      ],
      "execution_count": 42,
      "outputs": [
        {
          "output_type": "execute_result",
          "data": {
            "text/plain": [
              "GaussianNB()"
            ]
          },
          "metadata": {},
          "execution_count": 42
        }
      ]
    },
    {
      "cell_type": "code",
      "metadata": {
        "colab": {
          "base_uri": "https://localhost:8080/"
        },
        "id": "720Nz6KC950q",
        "outputId": "51baa175-c799-4a54-ac4d-cb6d531c9f42"
      },
      "source": [
        "y_predNB = modelnb.predict(X_test)\n",
        "y_predNB"
      ],
      "execution_count": 43,
      "outputs": [
        {
          "output_type": "execute_result",
          "data": {
            "text/plain": [
              "array([1, 0, 0, 0, 1, 1, 0, 1, 1, 1, 0, 1, 0, 0, 1, 0, 1, 0, 0, 1, 0, 0,\n",
              "       1, 1, 0, 0, 1, 0, 1, 0, 1, 0, 1, 1, 0, 0, 0, 1, 1, 1, 0, 1, 0, 0,\n",
              "       1, 1, 0, 1, 1, 1, 0, 1, 1, 1, 0, 1, 0, 1, 0, 0, 1, 0, 0, 0, 0, 0,\n",
              "       0, 1, 0, 0, 1, 0, 1, 1, 1, 1, 1, 1, 1, 0, 1, 1, 1, 1, 0, 0, 0, 1,\n",
              "       1, 1, 0, 0, 1, 1, 0, 1, 1, 0, 1, 0, 0, 1, 0, 1, 1, 1, 0, 0, 1, 1,\n",
              "       0, 1, 0, 1, 0, 0, 0, 1, 1, 1, 1, 0, 1, 0, 0, 0, 1, 1, 0, 1, 1, 0,\n",
              "       1, 0, 1, 1, 0])"
            ]
          },
          "metadata": {},
          "execution_count": 43
        }
      ]
    },
    {
      "cell_type": "code",
      "metadata": {
        "colab": {
          "base_uri": "https://localhost:8080/"
        },
        "id": "3BQFXhVu98Yh",
        "outputId": "00420174-385a-4286-8dd0-be3c8564a86d"
      },
      "source": [
        "print(classification_report(y_test, y_predNB))"
      ],
      "execution_count": 44,
      "outputs": [
        {
          "output_type": "stream",
          "name": "stdout",
          "text": [
            "              precision    recall  f1-score   support\n",
            "\n",
            "           0       0.75      0.52      0.62        92\n",
            "           1       0.40      0.64      0.49        45\n",
            "\n",
            "    accuracy                           0.56       137\n",
            "   macro avg       0.57      0.58      0.55       137\n",
            "weighted avg       0.63      0.56      0.57       137\n",
            "\n"
          ]
        }
      ]
    },
    {
      "cell_type": "markdown",
      "metadata": {
        "id": "TjpD9axB-zqk"
      },
      "source": [
        "# **KNN**"
      ]
    },
    {
      "cell_type": "code",
      "metadata": {
        "colab": {
          "base_uri": "https://localhost:8080/"
        },
        "id": "nsmwaHPA-4jZ",
        "outputId": "c92547c9-1811-41dd-8078-db1c3bc3a7e8"
      },
      "source": [
        "from sklearn.neighbors import KNeighborsClassifier\n",
        "clf = KNeighborsClassifier(n_neighbors=10, p=2, metric='euclidean')\n",
        "clf.fit(X_train, y_train)\n",
        "clf.get_params()"
      ],
      "execution_count": 45,
      "outputs": [
        {
          "output_type": "execute_result",
          "data": {
            "text/plain": [
              "{'algorithm': 'auto',\n",
              " 'leaf_size': 30,\n",
              " 'metric': 'euclidean',\n",
              " 'metric_params': None,\n",
              " 'n_jobs': None,\n",
              " 'n_neighbors': 10,\n",
              " 'p': 2,\n",
              " 'weights': 'uniform'}"
            ]
          },
          "metadata": {},
          "execution_count": 45
        }
      ]
    },
    {
      "cell_type": "code",
      "metadata": {
        "colab": {
          "base_uri": "https://localhost:8080/"
        },
        "id": "8XVMhWgW-6vh",
        "outputId": "d4a8b08e-2c84-4a25-9707-224372ee6acb"
      },
      "source": [
        "y_predKNN = clf.predict(X_test)\n",
        "y_predKNN"
      ],
      "execution_count": 46,
      "outputs": [
        {
          "output_type": "execute_result",
          "data": {
            "text/plain": [
              "array([0, 0, 0, 0, 0, 0, 0, 0, 0, 1, 0, 1, 0, 0, 0, 0, 0, 0, 0, 1, 0, 0,\n",
              "       1, 0, 1, 0, 0, 1, 1, 0, 0, 0, 0, 0, 0, 0, 1, 1, 1, 0, 0, 0, 0, 0,\n",
              "       1, 1, 0, 1, 1, 0, 0, 0, 0, 0, 1, 1, 0, 0, 0, 0, 1, 0, 1, 0, 0, 0,\n",
              "       0, 1, 0, 0, 0, 1, 0, 0, 0, 0, 1, 0, 1, 0, 0, 0, 1, 1, 0, 0, 1, 1,\n",
              "       0, 0, 0, 0, 0, 1, 0, 1, 0, 0, 1, 0, 0, 1, 0, 1, 0, 0, 0, 0, 1, 0,\n",
              "       0, 0, 0, 0, 0, 0, 0, 0, 1, 1, 0, 1, 1, 0, 0, 0, 0, 0, 0, 0, 0, 0,\n",
              "       0, 0, 0, 1, 0])"
            ]
          },
          "metadata": {},
          "execution_count": 46
        }
      ]
    },
    {
      "cell_type": "code",
      "metadata": {
        "colab": {
          "base_uri": "https://localhost:8080/"
        },
        "id": "DNU_wn8bBfCt",
        "outputId": "1f5497fa-25c4-4de1-ed93-9c719c5914eb"
      },
      "source": [
        "print(classification_report(y_test, y_predKNN))"
      ],
      "execution_count": 47,
      "outputs": [
        {
          "output_type": "stream",
          "name": "stdout",
          "text": [
            "              precision    recall  f1-score   support\n",
            "\n",
            "           0       0.74      0.80      0.77        92\n",
            "           1       0.51      0.42      0.46        45\n",
            "\n",
            "    accuracy                           0.68       137\n",
            "   macro avg       0.63      0.61      0.62       137\n",
            "weighted avg       0.67      0.68      0.67       137\n",
            "\n"
          ]
        }
      ]
    },
    {
      "cell_type": "markdown",
      "metadata": {
        "id": "klbwNRfLAL2h"
      },
      "source": [
        "**SUBMISSION**"
      ]
    },
    {
      "cell_type": "code",
      "metadata": {
        "colab": {
          "base_uri": "https://localhost:8080/"
        },
        "id": "tTH2wxQJAK6c",
        "outputId": "4c1aea1d-f005-4ec5-87df-966fdf6e0f6f"
      },
      "source": [
        "YKNN = clf.predict(tes)\n",
        "print(YKNN)"
      ],
      "execution_count": 48,
      "outputs": [
        {
          "output_type": "stream",
          "name": "stdout",
          "text": [
            "[0 0 0 ... 0 1 1]\n"
          ]
        }
      ]
    },
    {
      "cell_type": "code",
      "metadata": {
        "colab": {
          "base_uri": "https://localhost:8080/"
        },
        "id": "KMbdPIsKAQaB",
        "outputId": "59132d4b-b939-4828-bbe1-e9c018b5f54d"
      },
      "source": [
        "ID = test['ID']\n",
        "ID.head()"
      ],
      "execution_count": 49,
      "outputs": [
        {
          "output_type": "execute_result",
          "data": {
            "text/plain": [
              "0     3\n",
              "1     5\n",
              "2     6\n",
              "3    10\n",
              "4    17\n",
              "Name: ID, dtype: int64"
            ]
          },
          "metadata": {},
          "execution_count": 49
        }
      ]
    },
    {
      "cell_type": "code",
      "metadata": {
        "colab": {
          "base_uri": "https://localhost:8080/"
        },
        "id": "IUS2aQxpAU5q",
        "outputId": "1ba82505-ced6-4d5c-d213-6d60c0d2675a"
      },
      "source": [
        "Sub = {'ID': ID,\n",
        "        'Y': YKNN\n",
        "        }\n",
        "\n",
        "df = pd.DataFrame(Sub, columns= ['ID', 'Y'])\n",
        "\n",
        "df.to_csv ('KNN1.csv', index = False, header=True)\n",
        "\n",
        "print (df)"
      ],
      "execution_count": 50,
      "outputs": [
        {
          "output_type": "stream",
          "name": "stdout",
          "text": [
            "         ID  Y\n",
            "0         3  0\n",
            "1         5  0\n",
            "2         6  0\n",
            "3        10  0\n",
            "4        17  0\n",
            "...     ... ..\n",
            "5901  19515  1\n",
            "5902  19525  1\n",
            "5903  19528  0\n",
            "5904  19531  1\n",
            "5905  19532  1\n",
            "\n",
            "[5906 rows x 2 columns]\n"
          ]
        }
      ]
    },
    {
      "cell_type": "markdown",
      "metadata": {
        "id": "HH8pBwmxfA3m"
      },
      "source": [
        "# **TRY (buat coba-coba)**\n"
      ]
    },
    {
      "cell_type": "code",
      "metadata": {
        "colab": {
          "base_uri": "https://localhost:8080/"
        },
        "id": "wNIPKmmgfC7G",
        "outputId": "b767b5e6-c7ac-417d-a082-b06a7dde2c4f"
      },
      "source": [
        "from sklearn.tree import DecisionTreeClassifier\n",
        "dtc = DecisionTreeClassifier()\n",
        "dtc.fit(X_train, y_train)\n",
        "\n",
        "# acc = dtc.score(X_test, y_test)*100\n",
        "# accuracies['Decision Tree'] = acc\n",
        "# print(\"Decision Tree Test Accuracy {:.2f}%\".format(acc))"
      ],
      "execution_count": 51,
      "outputs": [
        {
          "output_type": "execute_result",
          "data": {
            "text/plain": [
              "DecisionTreeClassifier()"
            ]
          },
          "metadata": {},
          "execution_count": 51
        }
      ]
    },
    {
      "cell_type": "code",
      "metadata": {
        "colab": {
          "base_uri": "https://localhost:8080/"
        },
        "id": "DPReTtU1fbll",
        "outputId": "c571e3d8-c3ba-4553-c6ae-26d98e241281"
      },
      "source": [
        "y_predDTC = dtc.predict(X_test)\n",
        "y_predDTC\n",
        "print(classification_report(y_test, y_predDTC))"
      ],
      "execution_count": 52,
      "outputs": [
        {
          "output_type": "stream",
          "name": "stdout",
          "text": [
            "              precision    recall  f1-score   support\n",
            "\n",
            "           0       0.76      0.62      0.68        92\n",
            "           1       0.44      0.60      0.50        45\n",
            "\n",
            "    accuracy                           0.61       137\n",
            "   macro avg       0.60      0.61      0.59       137\n",
            "weighted avg       0.65      0.61      0.62       137\n",
            "\n"
          ]
        }
      ]
    }
  ]
}